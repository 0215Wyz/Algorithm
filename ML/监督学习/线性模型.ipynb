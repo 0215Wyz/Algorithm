{
 "cells": [
  {
   "cell_type": "code",
   "execution_count": 1,
   "metadata": {},
   "outputs": [],
   "source": [
    "import numpy as np\n",
    "import matplotlib.pyplot as plt\n",
    "import pandas as pd\n",
    "import mglearn"
   ]
  },
  {
   "cell_type": "code",
   "execution_count": 2,
   "metadata": {},
   "outputs": [
    {
     "name": "stdout",
     "output_type": "stream",
     "text": [
      "w[0]: 0.393906  b: -0.031804\n"
     ]
    },
    {
     "data": {
      "image/png": "[encoded data removed]",
      "text/plain": [
       "<Figure size 576x576 with 1 Axes>"
      ]
     },
     "metadata": {
      "needs_background": "light"
     },
     "output_type": "display_data"
    }
   ],
   "source": [
    "mglearn.plots.plot_linear_regression_wave()"
   ]
  },
  {
   "cell_type": "code",
   "execution_count": 3,
   "metadata": {},
   "outputs": [],
   "source": [
    "from sklearn.linear_model import LinearRegression\n",
    "from sklearn.model_selection import train_test_split"
   ]
  },
  {
   "cell_type": "code",
   "execution_count": 4,
   "metadata": {},
   "outputs": [],
   "source": [
    "X,y = mglearn.datasets.make_wave(n_samples=60)"
   ]
  },
  {
   "cell_type": "code",
   "execution_count": 5,
   "metadata": {},
   "outputs": [],
   "source": [
    "X_train,X_test,y_train,y_test = train_test_split(X,y,random_state=42)"
   ]
  },
  {
   "cell_type": "code",
   "execution_count": 6,
   "metadata": {},
   "outputs": [],
   "source": [
    "lr = LinearRegression().fit(X_train,y_train)"
   ]
  },
  {
   "cell_type": "markdown",
   "metadata": {},
   "source": [
    "“斜率”参数（w,也叫做权重或**系数**）被保存在coef_属性中，而偏移或截距（b）被保存在intercept_属性中  \n",
    "在scikit-learn中总是将从训练数据中得到的值保存在下划线结尾的属性中，为了将其与用户设置的数据分开"
   ]
  },
  {
   "cell_type": "code",
   "execution_count": 7,
   "metadata": {},
   "outputs": [
    {
     "name": "stdout",
     "output_type": "stream",
     "text": [
      "lr.coef_[0.39390555]\n",
      "lr.intercept_-0.031804343026759746\n"
     ]
    }
   ],
   "source": [
    "print(\"lr.coef_{}\".format(lr.coef_))\n",
    "print(\"lr.intercept_{}\".format(lr.intercept_))"
   ]
  },
  {
   "cell_type": "markdown",
   "metadata": {},
   "source": [
    "intercept_属性是一个浮点数，而coef_属性是一个Numpy数组，每个元素对应一个输入特征。  \n",
    "wave数据集只有一个输入特征"
   ]
  },
  {
   "cell_type": "code",
   "execution_count": 8,
   "metadata": {},
   "outputs": [
    {
     "name": "stdout",
     "output_type": "stream",
     "text": [
      "Train set score : 0.67\n",
      "Test set score : 0.66\n"
     ]
    }
   ],
   "source": [
    "print(\"Train set score : {:.2f}\".format(lr.score(X_train,y_train)))\n",
    "print(\"Test set score : {:.2f}\".format(lr.score(X_test,y_test)))"
   ]
  },
  {
   "cell_type": "markdown",
   "metadata": {},
   "source": [
    "训练集和测试集上的score非常接近，说明可能存在欠拟合\n",
    "- 对于一维数据来说，过拟合风险很小，因为模型非常简单（或者受限）\n",
    "- 对于更高维的数据集（即有大量特征的数据集），线性模型将会变得更加强大，过拟合的可能性也会变大。\n",
    "\n",
    "## 波士顿房价数据集\n",
    "506个样本，105个导出特征"
   ]
  },
  {
   "cell_type": "code",
   "execution_count": 9,
   "metadata": {},
   "outputs": [],
   "source": [
    "X,y=mglearn.datasets.load_extended_boston()"
   ]
  },
  {
   "cell_type": "code",
   "execution_count": 10,
   "metadata": {},
   "outputs": [
    {
     "data": {
      "text/plain": [
       "(506, 104)"
      ]
     },
     "execution_count": 10,
     "metadata": {},
     "output_type": "execute_result"
    }
   ],
   "source": [
    "X.shape"
   ]
  },
  {
   "cell_type": "code",
   "execution_count": 11,
   "metadata": {},
   "outputs": [
    {
     "data": {
      "text/plain": [
       "(506,)"
      ]
     },
     "execution_count": 11,
     "metadata": {},
     "output_type": "execute_result"
    }
   ],
   "source": [
    "y.shape"
   ]
  },
  {
   "cell_type": "code",
   "execution_count": 12,
   "metadata": {},
   "outputs": [],
   "source": [
    "X_train,X_test,y_train,y_test = train_test_split(X,y)"
   ]
  },
  {
   "cell_type": "code",
   "execution_count": 13,
   "metadata": {},
   "outputs": [],
   "source": [
    "lr = LinearRegression().fit(X_train,y_train)"
   ]
  },
  {
   "cell_type": "code",
   "execution_count": 14,
   "metadata": {},
   "outputs": [
    {
     "name": "stdout",
     "output_type": "stream",
     "text": [
      "Train set score : 0.93\n",
      "Test set score : 0.86\n"
     ]
    }
   ],
   "source": [
    "print(\"Train set score : {:.2f}\".format(lr.score(X_train,y_train)))\n",
    "print(\"Test set score : {:.2f}\".format(lr.score(X_test,y_test)))"
   ]
  },
  {
   "cell_type": "markdown",
   "metadata": {},
   "source": [
    "训练集和测试集之间的性能差异是过拟合的明显标志，过拟合，过分依赖训练数据，应该找一个可以控制复杂度的模型。标准线性回归最常用的替代方法就是**岭回归**"
   ]
  },
  {
   "cell_type": "code",
   "execution_count": 15,
   "metadata": {},
   "outputs": [],
   "source": [
    "from sklearn.linear_model import Ridge"
   ]
  },
  {
   "cell_type": "code",
   "execution_count": 16,
   "metadata": {},
   "outputs": [],
   "source": [
    "ridge = Ridge().fit(X_train,y_train)"
   ]
  },
  {
   "cell_type": "code",
   "execution_count": 17,
   "metadata": {},
   "outputs": [
    {
     "name": "stdout",
     "output_type": "stream",
     "text": [
      "Training set score : 0.87\n",
      "Test set score : 0.77\n"
     ]
    }
   ],
   "source": [
    "print(\"Training set score : {:.2f}\".format(ridge.score(X_train,y_train)))\n",
    "print(\"Test set score : {:.2f}\".format(ridge.score(X_test,y_test)))"
   ]
  },
  {
   "cell_type": "markdown",
   "metadata": {},
   "source": [
    "Ridge在训练集上的分数要低于在LinearRegression，但是在测试集上的分数更高。  \n",
    "线性回归对数据存在过拟合。  \n",
    "Ridge是一种约束更强的模型，所以不容易出现过拟合。  \n",
    "复杂度更小的模型意味在训练集上性能更差，**但泛化性能更好**。  \n",
    "<br/>\n",
    "简单性和训练集性能二者对于模型的重要程度可以通过设置alpha参数来指定。默认alpha=1.0。  \n",
    "增大alpha会使得系数更加趋向于0，从而降低训练集性能，但可能会提高泛化性能。"
   ]
  },
  {
   "cell_type": "code",
   "execution_count": 18,
   "metadata": {},
   "outputs": [
    {
     "name": "stdout",
     "output_type": "stream",
     "text": [
      "Training set score : 0.87\n",
      "Test set score : 0.77\n"
     ]
    }
   ],
   "source": [
    "ridge10 = Ridge(alpha=10).fit(X_train,y_train)\n",
    "print(\"Training set score : {:.2f}\".format(ridge.score(X_train,y_train)))\n",
    "print(\"Test set score : {:.2f}\".format(ridge.score(X_test,y_test)))"
   ]
  },
  {
   "cell_type": "code",
   "execution_count": 19,
   "metadata": {},
   "outputs": [
    {
     "name": "stdout",
     "output_type": "stream",
     "text": [
      "Training set score : 0.87\n",
      "Test set score : 0.77\n"
     ]
    }
   ],
   "source": [
    "ridge01 = Ridge(alpha=0.1).fit(X_train,y_train)\n",
    "print(\"Training set score : {:.2f}\".format(ridge.score(X_train,y_train)))\n",
    "print(\"Test set score : {:.2f}\".format(ridge.score(X_test,y_test)))\n",
    "#alpha很小，得到一个与LinearRegression类似的模型"
   ]
  },
  {
   "cell_type": "markdown",
   "metadata": {},
   "source": [
    "可以查看alpha去不同值时候的coef_属性，从而更加定性的理解alpha是如何改变模型的。"
   ]
  },
  {
   "cell_type": "code",
   "execution_count": 20,
   "metadata": {},
   "outputs": [
    {
     "data": {
      "text/plain": [
       "<matplotlib.legend.Legend at 0x2d42c870828>"
      ]
     },
     "execution_count": 20,
     "metadata": {},
     "output_type": "execute_result"
    },
    {
     "data": {
      "image/png": "[encoded data removed]",
      "text/plain": [
       "<Figure size 432x288 with 1 Axes>"
      ]
     },
     "metadata": {
      "needs_background": "light"
     },
     "output_type": "display_data"
    }
   ],
   "source": [
    "plt.plot(ridge.coef_,'s',label=\"Ridge alpha = 1\")\n",
    "plt.plot(ridge10.coef_,'^',label=\"Ridge alpha = 10\")\n",
    "plt.plot(ridge01.coef_,'v',label=\"Ridge alpha = 0.1\")\n",
    "\n",
    "plt.plot(lr.coef_,'o',label=\"LinearRegression\")\n",
    "plt.xlabel(\"Coefficient index\")\n",
    "plt.ylabel(\"Coefficient magnitude\")\n",
    "plt.hlines(0,0,len(lr.coef_))\n",
    "plt.ylim(-25,25)\n",
    "plt.legend()"
   ]
  },
  {
   "cell_type": "code",
   "execution_count": 21,
   "metadata": {},
   "outputs": [
    {
     "data": {
      "text/plain": [
       "array([-1.68270928e+00, -1.29909793e+00, -3.37326569e-01, -3.27281346e-01,\n",
       "        1.97445701e-02,  7.25503888e+00,  4.51187561e-01, -5.07651830e+00,\n",
       "        4.83020243e+00, -1.11063562e+00, -1.58928957e+00,  2.20720518e+00,\n",
       "       -3.49382863e+00,  1.28275586e-01,  9.04915407e-03, -1.03142450e+00,\n",
       "        9.57440281e-01, -1.42261565e+00, -1.91785931e+00, -1.37284303e+00,\n",
       "       -3.77977292e-01, -1.92862786e+00, -1.65916940e+00, -1.49395708e+00,\n",
       "       -1.65827416e+00, -4.61338861e-02,  1.83350634e+00, -1.82261656e+00,\n",
       "        8.00431516e-01,  1.71921042e-01,  4.65550970e+00, -2.65552622e-01,\n",
       "       -4.43657831e-01,  7.18683944e-01,  1.48306089e-01,  6.98694856e-01,\n",
       "       -8.02117911e-01, -1.42985092e+00,  1.70356850e+00,  2.31318026e+00,\n",
       "        9.32545834e-01, -2.54609332e+00,  2.29056622e+00, -3.83045124e+00,\n",
       "        1.64339341e+00,  2.74941906e+00, -2.17480538e+00,  6.59725391e-01,\n",
       "       -3.52230393e+00, -3.27281346e-01, -4.10384693e+00,  1.48130544e+00,\n",
       "       -1.54608142e-01, -1.63117310e+00,  4.82410955e+00,  4.69856811e+00,\n",
       "        2.19796863e+00,  1.44263410e-01, -3.53509569e+00, -2.46598139e+00,\n",
       "       -1.97457991e+00, -2.46785672e+00, -2.25466529e+00, -2.86340792e+00,\n",
       "       -1.95999457e+00, -3.31763639e+00,  1.29350692e+00, -2.79559622e+00,\n",
       "        1.92303284e+01, -2.07842111e+00,  1.81907899e+00, -5.46918747e+00,\n",
       "       -7.45562686e+00, -6.08687465e+00,  8.91694947e+00, -9.94885880e+00,\n",
       "        1.86265261e+00, -3.08857769e+00,  2.79579163e+00,  4.74892791e-01,\n",
       "       -2.31608024e+00, -2.09834651e-01, -5.00006903e+00,  2.35377419e+00,\n",
       "       -1.67541635e+00, -4.09701835e+00, -6.61525403e-01, -4.18842375e+00,\n",
       "        2.08823482e-01,  9.82262074e-01,  1.69981207e+00,  2.12801006e+00,\n",
       "        1.90623521e+00, -8.28957952e+00,  4.77443264e-01,  1.97453739e+00,\n",
       "       -1.94051811e+00, -6.96563755e+00,  1.93556287e+00, -1.92787157e+00,\n",
       "       -1.54453972e+00, -1.03626128e+00, -5.31666527e+00,  1.23006081e+01])"
      ]
     },
     "execution_count": 21,
     "metadata": {},
     "output_type": "execute_result"
    }
   ],
   "source": [
    "ridge.coef_"
   ]
  },
  {
   "cell_type": "markdown",
   "metadata": {},
   "source": [
    "x=0,对应的第一个特征系数，x=1对应的第二个特征系数，y轴表示该系数具体的数值。  \n",
    "还有一种方法可以用来理解正则化的影响，就是固定alpha的值，但改变训练数据量。"
   ]
  },
  {
   "cell_type": "code",
   "execution_count": 22,
   "metadata": {},
   "outputs": [
    {
     "data": {
      "image/png": "[encoded data removed]",
      "text/plain": [
       "<Figure size 432x288 with 1 Axes>"
      ]
     },
     "metadata": {
      "needs_background": "light"
     },
     "output_type": "display_data"
    }
   ],
   "source": [
    "mglearn.plots.plot_ridge_n_samples()"
   ]
  }
 ],
 "metadata": {
  "kernelspec": {
   "display_name": "Python 3",
   "language": "python",
   "name": "python3"
  },
  "language_info": {
   "codemirror_mode": {
    "name": "ipython",
    "version": 3
   },
   "file_extension": ".py",
   "mimetype": "text/x-python",
   "name": "python",
   "nbconvert_exporter": "python",
   "pygments_lexer": "ipython3",
   "version": "3.6.8"
  }
 },
 "nbformat": 4,
 "nbformat_minor": 2
}
